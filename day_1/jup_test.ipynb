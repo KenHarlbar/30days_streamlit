{
 "cells": [
  {
   "cell_type": "code",
   "execution_count": 1,
   "metadata": {},
   "outputs": [
    {
     "name": "stdout",
     "output_type": "stream",
     "text": [
      "Requirement already satisfied: jupyterlab in /home/kenharlbar/anaconda3/lib/python3.9/site-packages (3.2.1)\n",
      "Requirement already satisfied: nbclassic~=0.2 in /home/kenharlbar/anaconda3/lib/python3.9/site-packages (from jupyterlab) (0.2.6)\n",
      "Requirement already satisfied: packaging in /home/kenharlbar/anaconda3/lib/python3.9/site-packages (from jupyterlab) (21.0)\n",
      "Requirement already satisfied: tornado>=6.1.0 in /home/kenharlbar/anaconda3/lib/python3.9/site-packages (from jupyterlab) (6.1)\n",
      "Requirement already satisfied: jupyterlab-server~=2.3 in /home/kenharlbar/anaconda3/lib/python3.9/site-packages (from jupyterlab) (2.8.2)\n",
      "Requirement already satisfied: jupyter-server~=1.4 in /home/kenharlbar/anaconda3/lib/python3.9/site-packages (from jupyterlab) (1.4.1)\n",
      "Requirement already satisfied: jupyter-core in /home/kenharlbar/anaconda3/lib/python3.9/site-packages (from jupyterlab) (4.8.1)\n",
      "Requirement already satisfied: jinja2>=2.1 in /home/kenharlbar/anaconda3/lib/python3.9/site-packages (from jupyterlab) (2.11.3)\n",
      "Requirement already satisfied: ipython in /home/kenharlbar/anaconda3/lib/python3.9/site-packages (from jupyterlab) (7.29.0)\n",
      "Requirement already satisfied: MarkupSafe>=0.23 in /home/kenharlbar/anaconda3/lib/python3.9/site-packages (from jinja2>=2.1->jupyterlab) (1.1.1)\n",
      "Requirement already satisfied: ipython-genutils in /home/kenharlbar/anaconda3/lib/python3.9/site-packages (from jupyter-server~=1.4->jupyterlab) (0.2.0)\n",
      "Requirement already satisfied: anyio>=2.0.2 in /home/kenharlbar/anaconda3/lib/python3.9/site-packages (from jupyter-server~=1.4->jupyterlab) (2.2.0)\n",
      "Requirement already satisfied: prometheus-client in /home/kenharlbar/anaconda3/lib/python3.9/site-packages (from jupyter-server~=1.4->jupyterlab) (0.11.0)\n",
      "Requirement already satisfied: Send2Trash in /home/kenharlbar/anaconda3/lib/python3.9/site-packages (from jupyter-server~=1.4->jupyterlab) (1.8.0)\n",
      "Requirement already satisfied: jupyter-client>=6.1.1 in /home/kenharlbar/anaconda3/lib/python3.9/site-packages (from jupyter-server~=1.4->jupyterlab) (6.1.12)\n",
      "Requirement already satisfied: traitlets>=4.2.1 in /home/kenharlbar/anaconda3/lib/python3.9/site-packages (from jupyter-server~=1.4->jupyterlab) (5.1.0)\n",
      "Requirement already satisfied: nbconvert in /home/kenharlbar/anaconda3/lib/python3.9/site-packages (from jupyter-server~=1.4->jupyterlab) (6.1.0)\n",
      "Requirement already satisfied: terminado>=0.8.3 in /home/kenharlbar/anaconda3/lib/python3.9/site-packages (from jupyter-server~=1.4->jupyterlab) (0.9.4)\n",
      "Requirement already satisfied: pyzmq>=17 in /home/kenharlbar/anaconda3/lib/python3.9/site-packages (from jupyter-server~=1.4->jupyterlab) (22.2.1)\n",
      "Requirement already satisfied: nbformat in /home/kenharlbar/anaconda3/lib/python3.9/site-packages (from jupyter-server~=1.4->jupyterlab) (5.1.3)\n",
      "Requirement already satisfied: idna>=2.8 in /home/kenharlbar/anaconda3/lib/python3.9/site-packages (from anyio>=2.0.2->jupyter-server~=1.4->jupyterlab) (3.2)\n",
      "Requirement already satisfied: sniffio>=1.1 in /home/kenharlbar/anaconda3/lib/python3.9/site-packages (from anyio>=2.0.2->jupyter-server~=1.4->jupyterlab) (1.2.0)\n",
      "Requirement already satisfied: python-dateutil>=2.1 in /home/kenharlbar/anaconda3/lib/python3.9/site-packages (from jupyter-client>=6.1.1->jupyter-server~=1.4->jupyterlab) (2.8.2)\n",
      "Requirement already satisfied: requests in /home/kenharlbar/anaconda3/lib/python3.9/site-packages (from jupyterlab-server~=2.3->jupyterlab) (2.26.0)\n",
      "Requirement already satisfied: json5 in /home/kenharlbar/anaconda3/lib/python3.9/site-packages (from jupyterlab-server~=2.3->jupyterlab) (0.9.6)\n",
      "Requirement already satisfied: entrypoints>=0.2.2 in /home/kenharlbar/anaconda3/lib/python3.9/site-packages (from jupyterlab-server~=2.3->jupyterlab) (0.3)\n",
      "Requirement already satisfied: babel in /home/kenharlbar/anaconda3/lib/python3.9/site-packages (from jupyterlab-server~=2.3->jupyterlab) (2.9.1)\n",
      "Requirement already satisfied: jsonschema>=3.0.1 in /home/kenharlbar/anaconda3/lib/python3.9/site-packages (from jupyterlab-server~=2.3->jupyterlab) (3.2.0)\n",
      "Requirement already satisfied: six>=1.11.0 in /home/kenharlbar/anaconda3/lib/python3.9/site-packages (from jsonschema>=3.0.1->jupyterlab-server~=2.3->jupyterlab) (1.16.0)\n",
      "Requirement already satisfied: attrs>=17.4.0 in /home/kenharlbar/anaconda3/lib/python3.9/site-packages (from jsonschema>=3.0.1->jupyterlab-server~=2.3->jupyterlab) (21.2.0)\n",
      "Requirement already satisfied: pyrsistent>=0.14.0 in /home/kenharlbar/anaconda3/lib/python3.9/site-packages (from jsonschema>=3.0.1->jupyterlab-server~=2.3->jupyterlab) (0.18.0)\n",
      "Requirement already satisfied: setuptools in /home/kenharlbar/anaconda3/lib/python3.9/site-packages (from jsonschema>=3.0.1->jupyterlab-server~=2.3->jupyterlab) (58.0.4)\n",
      "Requirement already satisfied: notebook<7 in /home/kenharlbar/anaconda3/lib/python3.9/site-packages (from nbclassic~=0.2->jupyterlab) (6.4.5)\n",
      "Requirement already satisfied: ipykernel in /home/kenharlbar/anaconda3/lib/python3.9/site-packages (from notebook<7->nbclassic~=0.2->jupyterlab) (6.4.1)\n",
      "Requirement already satisfied: argon2-cffi in /home/kenharlbar/anaconda3/lib/python3.9/site-packages (from notebook<7->nbclassic~=0.2->jupyterlab) (20.1.0)\n",
      "Requirement already satisfied: ptyprocess in /home/kenharlbar/anaconda3/lib/python3.9/site-packages (from terminado>=0.8.3->jupyter-server~=1.4->jupyterlab) (0.7.0)\n",
      "Requirement already satisfied: cffi>=1.0.0 in /home/kenharlbar/anaconda3/lib/python3.9/site-packages (from argon2-cffi->notebook<7->nbclassic~=0.2->jupyterlab) (1.14.6)\n",
      "Requirement already satisfied: pycparser in /home/kenharlbar/anaconda3/lib/python3.9/site-packages (from cffi>=1.0.0->argon2-cffi->notebook<7->nbclassic~=0.2->jupyterlab) (2.20)\n",
      "Requirement already satisfied: pytz>=2015.7 in /home/kenharlbar/anaconda3/lib/python3.9/site-packages (from babel->jupyterlab-server~=2.3->jupyterlab) (2021.3)\n",
      "Requirement already satisfied: debugpy<2.0,>=1.0.0 in /home/kenharlbar/anaconda3/lib/python3.9/site-packages (from ipykernel->notebook<7->nbclassic~=0.2->jupyterlab) (1.4.1)\n",
      "Requirement already satisfied: matplotlib-inline<0.2.0,>=0.1.0 in /home/kenharlbar/anaconda3/lib/python3.9/site-packages (from ipykernel->notebook<7->nbclassic~=0.2->jupyterlab) (0.1.2)\n",
      "Requirement already satisfied: backcall in /home/kenharlbar/anaconda3/lib/python3.9/site-packages (from ipython->jupyterlab) (0.2.0)\n",
      "Requirement already satisfied: pickleshare in /home/kenharlbar/anaconda3/lib/python3.9/site-packages (from ipython->jupyterlab) (0.7.5)\n",
      "Requirement already satisfied: decorator in /home/kenharlbar/anaconda3/lib/python3.9/site-packages (from ipython->jupyterlab) (5.1.0)\n",
      "Requirement already satisfied: prompt-toolkit!=3.0.0,!=3.0.1,<3.1.0,>=2.0.0 in /home/kenharlbar/anaconda3/lib/python3.9/site-packages (from ipython->jupyterlab) (3.0.20)\n",
      "Requirement already satisfied: pygments in /home/kenharlbar/anaconda3/lib/python3.9/site-packages (from ipython->jupyterlab) (2.10.0)\n",
      "Requirement already satisfied: pexpect>4.3 in /home/kenharlbar/anaconda3/lib/python3.9/site-packages (from ipython->jupyterlab) (4.8.0)\n",
      "Requirement already satisfied: jedi>=0.16 in /home/kenharlbar/anaconda3/lib/python3.9/site-packages (from ipython->jupyterlab) (0.18.0)\n",
      "Requirement already satisfied: parso<0.9.0,>=0.8.0 in /home/kenharlbar/anaconda3/lib/python3.9/site-packages (from jedi>=0.16->ipython->jupyterlab) (0.8.2)\n",
      "Requirement already satisfied: wcwidth in /home/kenharlbar/anaconda3/lib/python3.9/site-packages (from prompt-toolkit!=3.0.0,!=3.0.1,<3.1.0,>=2.0.0->ipython->jupyterlab) (0.2.5)\n",
      "Requirement already satisfied: mistune<2,>=0.8.1 in /home/kenharlbar/anaconda3/lib/python3.9/site-packages (from nbconvert->jupyter-server~=1.4->jupyterlab) (0.8.4)\n",
      "Requirement already satisfied: pandocfilters>=1.4.1 in /home/kenharlbar/anaconda3/lib/python3.9/site-packages (from nbconvert->jupyter-server~=1.4->jupyterlab) (1.4.3)\n",
      "Requirement already satisfied: jupyterlab-pygments in /home/kenharlbar/anaconda3/lib/python3.9/site-packages (from nbconvert->jupyter-server~=1.4->jupyterlab) (0.1.2)\n",
      "Requirement already satisfied: nbclient<0.6.0,>=0.5.0 in /home/kenharlbar/anaconda3/lib/python3.9/site-packages (from nbconvert->jupyter-server~=1.4->jupyterlab) (0.5.3)\n",
      "Requirement already satisfied: bleach in /home/kenharlbar/anaconda3/lib/python3.9/site-packages (from nbconvert->jupyter-server~=1.4->jupyterlab) (4.0.0)\n",
      "Requirement already satisfied: defusedxml in /home/kenharlbar/anaconda3/lib/python3.9/site-packages (from nbconvert->jupyter-server~=1.4->jupyterlab) (0.7.1)\n",
      "Requirement already satisfied: testpath in /home/kenharlbar/anaconda3/lib/python3.9/site-packages (from nbconvert->jupyter-server~=1.4->jupyterlab) (0.5.0)\n",
      "Requirement already satisfied: async-generator in /home/kenharlbar/anaconda3/lib/python3.9/site-packages (from nbclient<0.6.0,>=0.5.0->nbconvert->jupyter-server~=1.4->jupyterlab) (1.10)\n",
      "Requirement already satisfied: nest-asyncio in /home/kenharlbar/anaconda3/lib/python3.9/site-packages (from nbclient<0.6.0,>=0.5.0->nbconvert->jupyter-server~=1.4->jupyterlab) (1.5.1)\n",
      "Requirement already satisfied: webencodings in /home/kenharlbar/anaconda3/lib/python3.9/site-packages (from bleach->nbconvert->jupyter-server~=1.4->jupyterlab) (0.5.1)\n",
      "Requirement already satisfied: pyparsing>=2.0.2 in /home/kenharlbar/anaconda3/lib/python3.9/site-packages (from packaging->jupyterlab) (3.0.4)\n",
      "Requirement already satisfied: urllib3<1.27,>=1.21.1 in /home/kenharlbar/anaconda3/lib/python3.9/site-packages (from requests->jupyterlab-server~=2.3->jupyterlab) (1.26.7)\n",
      "Requirement already satisfied: certifi>=2017.4.17 in /home/kenharlbar/anaconda3/lib/python3.9/site-packages (from requests->jupyterlab-server~=2.3->jupyterlab) (2021.10.8)\n",
      "Requirement already satisfied: charset-normalizer~=2.0.0 in /home/kenharlbar/anaconda3/lib/python3.9/site-packages (from requests->jupyterlab-server~=2.3->jupyterlab) (2.0.4)\n",
      "Note: you may need to restart the kernel to use updated packages.\n"
     ]
    }
   ],
   "source": [
    "pip install jupyterlab\n"
   ]
  }
 ],
 "metadata": {
  "kernelspec": {
   "display_name": "base",
   "language": "python",
   "name": "python3"
  },
  "language_info": {
   "codemirror_mode": {
    "name": "ipython",
    "version": 3
   },
   "file_extension": ".py",
   "mimetype": "text/x-python",
   "name": "python",
   "nbconvert_exporter": "python",
   "pygments_lexer": "ipython3",
   "version": "3.9.7"
  },
  "orig_nbformat": 4
 },
 "nbformat": 4,
 "nbformat_minor": 2
}
